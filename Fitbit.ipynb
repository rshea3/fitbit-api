{
 "cells": [
  {
   "cell_type": "code",
   "execution_count": null,
   "metadata": {
    "scrolled": true
   },
   "outputs": [],
   "source": [
    "# This is based on fitbit API_Version 1.2\n",
    "# Need to go to api.py in fitbit folder, and search for API_Version, change API version from 1 to 1.2\n",
    "# After changing API version, need to execute: pip install -r requirements/base.txt\n",
    "# https://towardsdatascience.com/collect-your-own-fitbit-data-with-python-ff145fa10873\n",
    "# Above link provides details about how to obtain minute-to-minute data from fitbit ionic\n",
    "# Start Anaconda\n",
    "\n",
    "import fitbit\n",
    "import gather_keys_oauth2 as Oauth2\n",
    "import pandas as pd \n",
    "import datetime\n",
    "\n",
    "CLIENT_ID = '22D22J'\n",
    "CLIENT_SECRET = '8d253fdc2ec85e42327466d98e1ced79'\n",
    "\n",
    "server = Oauth2.OAuth2Server(CLIENT_ID, CLIENT_SECRET)\n",
    "server.browser_authorize()\n",
    "\n",
    "ACCESS_TOKEN = str(server.fitbit.client.session.token['access_token'])\n",
    "REFRESH_TOKEN = str(server.fitbit.client.session.token['refresh_token'])\n",
    "\n",
    "auth2_client = fitbit.Fitbit(CLIENT_ID, CLIENT_SECRET, oauth2=True, access_token=ACCESS_TOKEN, refresh_token=REFRESH_TOKEN)\n",
    "\n",
    "yesterday = str((datetime.datetime.now() - datetime.timedelta(days=1)).strftime(\"%Y%m%d\"))\n",
    "\n",
    "yesterday2 = str((datetime.datetime.now() - datetime.timedelta(days=1)).strftime(\"%Y-%m-%d\"))\n",
    "\n",
    "today = str(datetime.datetime.now().strftime(\"%Y%m%d\"))\n",
    "\n",
    "# Obtain heart rate data\n",
    "\n",
    "fit_statsHR = auth2_client.intraday_time_series('activities/heart', base_date=yesterday2, detail_level='1sec')\n",
    "\n",
    "time_list = []\n",
    "val_list = []\n",
    "\n",
    "\n",
    "for i in fit_statsHR['activities-heart-intraday']['dataset']:\n",
    "    val_list.append(i['value'])\n",
    "    time_list.append(i['time'])\n",
    "  \n",
    "heartdf = pd.DataFrame({'HR Date':yesterday, 'Heart Rate':val_list,'Time':time_list})\n",
    "\n",
    "heartdf.to_csv('/Users/student/Fitbit/python-fitbit-master/Heart/Shea/heart'+ \\\n",
    "               yesterday+'.csv', \\\n",
    "               columns=['HR Date','Time','Heart Rate'], header=True, \\\n",
    "               index = False)\n",
    "\n",
    "# Sleep log data\n",
    "\n",
    "fit_statsSl = auth2_client.sleep(date='today')\n",
    "stime_list = []\n",
    "sval_list = []\n",
    "\n",
    "for i in fit_statsSl['sleep'][0]['levels']['data']:\n",
    "    stime_list.append(i['dateTime'])\n",
    "    sval_list.append(i['level'])\n",
    "\n",
    "sleepdf = pd.DataFrame({'Time':stime_list,'Level':sval_list})\n",
    "\n",
    "sleepdf.to_csv('/Users/student/Fitbit/python-fitbit-master/Sleep/Shea/sleep' + \\\n",
    "               today+'.csv', \\\n",
    "               columns = ['Time','Level'],header=True, \\\n",
    "               index = False)\n"
   ]
  },
  {
   "cell_type": "code",
   "execution_count": null,
   "metadata": {},
   "outputs": [],
   "source": []
  },
  {
   "cell_type": "code",
   "execution_count": null,
   "metadata": {},
   "outputs": [],
   "source": []
  },
  {
   "cell_type": "code",
   "execution_count": null,
   "metadata": {},
   "outputs": [],
   "source": []
  }
 ],
 "metadata": {
  "kernelspec": {
   "display_name": "Python 3",
   "language": "python",
   "name": "python3"
  },
  "language_info": {
   "codemirror_mode": {
    "name": "ipython",
    "version": 3
   },
   "file_extension": ".py",
   "mimetype": "text/x-python",
   "name": "python",
   "nbconvert_exporter": "python",
   "pygments_lexer": "ipython3",
   "version": "3.6.5"
  }
 },
 "nbformat": 4,
 "nbformat_minor": 2
}
